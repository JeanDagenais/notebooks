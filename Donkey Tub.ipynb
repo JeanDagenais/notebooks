{
 "cells": [
  {
   "cell_type": "code",
   "execution_count": 1,
   "metadata": {
    "collapsed": true
   },
   "outputs": [],
   "source": [
    "import numpy as np\n",
    "import os\n",
    "import csv\n",
    "\n",
    "from PIL import Image\n",
    "\n",
    "import unittest"
   ]
  },
  {
   "cell_type": "code",
   "execution_count": 2,
   "metadata": {},
   "outputs": [],
   "source": [
    "from PIL.JpegImagePlugin import JpegImageFile\n",
    "TYPE_PIL_JPG = JpegImageFile\n",
    "TYPE_NP_ARRAY = np.ndarray"
   ]
  },
  {
   "cell_type": "code",
   "execution_count": 3,
   "metadata": {},
   "outputs": [],
   "source": [
    "class Data():\n",
    "    @staticmethod\n",
    "    def lidar_array():\n",
    "        arr = np.random.randint(0,2, size=365)\n",
    "        return arr\n",
    "    \n",
    "    @staticmethod\n",
    "    def camera_img():\n",
    "        img = Image.open('/home/wroscoe/mydonkey/sessions/1115am/frame_00001_ttl_0.42665756334488203_agl_0.09659284488019566_mil_0.0.jpg')\n",
    "        return img\n",
    "    \n",
    "    def camera_arr(self):\n",
    "        img = self.camera_img()\n",
    "        return np.array(img)\n",
    "    \n",
    "    @staticmethod\n",
    "    def steering_angle():\n",
    "        return np.random.random() * 2 - 1\n",
    "    \n",
    "    @staticmethod\n",
    "    def throttle():\n",
    "        return np.random.random() * 1.2 - .2"
   ]
  },
  {
   "cell_type": "code",
   "execution_count": 4,
   "metadata": {
    "collapsed": true
   },
   "outputs": [],
   "source": [
    "import time"
   ]
  },
  {
   "cell_type": "code",
   "execution_count": null,
   "metadata": {
    "collapsed": true
   },
   "outputs": [],
   "source": []
  },
  {
   "cell_type": "code",
   "execution_count": 5,
   "metadata": {},
   "outputs": [],
   "source": [
    "class Tub():\n",
    "    \"\"\"\n",
    "    A datastore to store sensor data in a key, value format.\n",
    "    \n",
    "    Accepts str, int, float, image_array, image, and array data types.\n",
    "    \n",
    "    For example:\n",
    "    \n",
    "    #Create a tub to store speed values.\n",
    "    t=Tub(inputs={'speed':'float'})\n",
    "    \n",
    "    #Save a speed value.\n",
    "    t.put('speed', .345)\n",
    "    \n",
    "    #Get the last speed value.\n",
    "    t.get('speed')\n",
    "    \n",
    "    #Get a dataframe of all the records. \n",
    "    t.records()\n",
    "    t.records(interval=.1, how='last') \n",
    "    \n",
    "    #Show the statistics about the Tub\n",
    "    t.summary()\n",
    "    \n",
    "    #create a generator that will return a dictionary of the \n",
    "    #saved key, value pairs. \n",
    "    t.replay(keys=['speed'], y=interval=.1, how='last', shuffle=True)\n",
    "    \n",
    "    #zip the tub folder\n",
    "    t.zip(filepath='first_race.zip')\n",
    "    \"\"\"\n",
    "    \n",
    "    \n",
    "    \n",
    "    def __init__(self, \n",
    "                 path=None,\n",
    "                 inputs = {},\n",
    "                 overwrite=False):\n",
    "               \n",
    "        self.record_id = 0\n",
    "        self.start_time = time.time()\n",
    "        self.key_type_map = key_type_map\n",
    "        \n",
    "        self.path = os.path.expanduser(path)\n",
    "        self.log_path = os.path.join(self.path, 'log.txt')\n",
    "        \n",
    "        if overwrite:\n",
    "            if os.path.exists(self.path):\n",
    "                self.delete()\n",
    "            self.log = self.load(new=True)\n",
    "        else:\n",
    "            self.log = self.load()\n",
    "\n",
    "            \n",
    "    def load(self, new=False):\n",
    "        #create a folder\n",
    "        if not os.path.exists(self.path):\n",
    "            os.makedirs(self.path)    \n",
    "            \n",
    "        log = self._open_log(self.log_path)\n",
    "        return log\n",
    "            \n",
    "        \n",
    "    @staticmethod\n",
    "    def _open_log(log_path):\n",
    "        if os.path.isfile(log_path):\n",
    "            write_mode = 'a' #append\n",
    "        else: \n",
    "            write_mode = 'w'\n",
    "        \n",
    "        #create text file to hold log of variables\n",
    "        log = open(log_path, write_mode)\n",
    "\n",
    "        if write_mode is 'w':\n",
    "            headers = 'id, key, val, type'\n",
    "            log.write(headers + '\\n')\n",
    "    \n",
    "        return log\n",
    "    \n",
    "    \n",
    "    def write_record(self, key, val):\n",
    "        \"\"\"\n",
    "        Write a record to the log.\n",
    "        \"\"\"\n",
    "        line = ','.join([str(self.record_id), key, str(val)])\n",
    "        self.log.write(line + '\\n')\n",
    "        self.log.flush()\n",
    "        \n",
    "    def save_image(self, key, image):\n",
    "            file_path = self.make_file_path(key)\n",
    "            image.save(file_path)\n",
    "            return file_path\n",
    "        \n",
    "    def save_array(self, key, array):\n",
    "            file_path = self.make_file_path(key, ext='.npy')\n",
    "            array.tofile(file_path)\n",
    "            return file_path\n",
    "    \n",
    "    def put_image_array(self, key, arr):\n",
    "\n",
    "    \n",
    "    \n",
    "    def put(self, key, val):\n",
    "        \n",
    "        ''' Save the key and value to disk.'''\n",
    "        \n",
    "        assert key in self.key_type_map.keys()\n",
    "        \n",
    "        self.record_id += 1\n",
    "        self.record_time = int(time.time() - self.start_time)\n",
    "        \n",
    "        val_type = self.key_type_map.get(key)\n",
    "        \n",
    "        if val_type in ['str', 'float', 'int']:\n",
    "            self.write_record(key, val)        \n",
    "            \n",
    "        elif val_type is 'image_array':\n",
    "            image = Image.fromarray(val)\n",
    "            val = self.save_image(key, image)\n",
    "            self.write_record(key, val)\n",
    "            \n",
    "        elif val_type is 'image':\n",
    "            val = save_image(key, val)\n",
    "            self.write_record(key, val)\n",
    "            \n",
    "        elif val_type is 'array':\n",
    "            val = save_array(key, val)\n",
    "            self.write_record(key, val)\n",
    "\n",
    "    \n",
    "    def get(self, keys):\n",
    "        ''' \n",
    "        \n",
    "        '''\n",
    "    \n",
    "    \n",
    "    def make_file_path(self, key, ext='.jpg'):\n",
    "        name = '_'.join([str(self.record_id), key, str(self.record_time), ext])\n",
    "        file_path = os.path.join(self.path, name)\n",
    "        return file_path\n",
    "    \n",
    "    def close(self):\n",
    "        try:\n",
    "            self.log.close()\n",
    "        except AttributeError as e:\n",
    "            pass\n",
    "        \n",
    "    def delete(self):\n",
    "        \"\"\" Delete the folder and files for this tub. \"\"\"\n",
    "        self.close()\n",
    "        import shutil\n",
    "        shutil.rmtree(self.path)\n",
    "\n",
    "    \n",
    "    "
   ]
  },
  {
   "cell_type": "code",
   "execution_count": 6,
   "metadata": {},
   "outputs": [],
   "source": [
    "class TestTubPut(unittest.TestCase):\n",
    "    def setUp(self):\n",
    "        \n",
    "        key_type_map = {'speed': 'float',\n",
    "                        'lidar': 'lidar_arr',\n",
    "                        'camera': 'camera_arr'}\n",
    "        \n",
    "        self.tub = Tub('~/tubtest', \n",
    "                       key_type_map=key_type_map,\n",
    "                       overwrite=True)\n",
    "        self.data = Data()\n",
    "    \n",
    "    \n",
    "    def get_log_last_line(self):\n",
    "        f = open(self.tub.log_path, 'r')\n",
    "        last_line = f.read().split('\\n')[-2]\n",
    "        print(last_line)\n",
    "        i, key, val = last_line.split(',')\n",
    "        return i, key, val\n",
    "    \n",
    "    def test_put_float(self):\n",
    "        self.tub.put('speed', .234)\n",
    "        i, key, val = self.get_log_last_line()\n",
    "        self.assertEqual(key, 'speed')\n",
    "        \n",
    "    def test_put_lidar(self):\n",
    "        val = self.data.lidar_array()\n",
    "        self.tub.put('lidar', val)\n",
    "        i, key, val = self.get_log_last_line()\n",
    "        self.assertEqual(i, '1')\n",
    "        self.assertEqual(key, 'lidar')\n",
    "        assert os.path.isfile(self.tub.log_path)\n",
    "        assert os.path.isfile(val)\n",
    "        \n",
    "    def test_put_camera_img(self):\n",
    "        val = self.data.camera_arr()\n",
    "        self.tub.put('camera', val)\n",
    "        i, key, val = self.get_log_last_line()\n",
    "        self.assertEqual(key, 'camera')\n",
    "        assert os.path.isfile(val)\n",
    "        \n",
    "    def test_force_keys(self):\n",
    "        self.assertRaises(AssertionError, self.tub.put, 'wrong_key_name', 'some_val')\n",
    "        \n",
    "    def tearDown(self):\n",
    "        self.tub.delete()"
   ]
  },
  {
   "cell_type": "code",
   "execution_count": 7,
   "metadata": {},
   "outputs": [
    {
     "name": "stderr",
     "output_type": "stream",
     "text": [
      "...."
     ]
    },
    {
     "name": "stdout",
     "output_type": "stream",
     "text": [
      "1,camera,/home/wroscoe/tubtest/1_camera_0_.jpg\n",
      "1,speed,0.234\n",
      "1,lidar,/home/wroscoe/tubtest/1_lidar_0_.jpg\n"
     ]
    },
    {
     "name": "stderr",
     "output_type": "stream",
     "text": [
      "\n",
      "----------------------------------------------------------------------\n",
      "Ran 4 tests in 0.074s\n",
      "\n",
      "OK\n"
     ]
    },
    {
     "data": {
      "text/plain": [
       "<unittest.runner.TextTestResult run=4 errors=0 failures=0>"
      ]
     },
     "execution_count": 7,
     "metadata": {},
     "output_type": "execute_result"
    }
   ],
   "source": [
    "a = TestTubPut()\n",
    "suite = unittest.TestLoader().loadTestsFromModule(a)\n",
    "unittest.TextTestRunner().run(suite)"
   ]
  },
  {
   "cell_type": "code",
   "execution_count": null,
   "metadata": {
    "collapsed": true
   },
   "outputs": [],
   "source": []
  },
  {
   "cell_type": "code",
   "execution_count": 23,
   "metadata": {
    "collapsed": true
   },
   "outputs": [],
   "source": [
    "data = Data()"
   ]
  },
  {
   "cell_type": "code",
   "execution_count": 69,
   "metadata": {},
   "outputs": [
    {
     "data": {
      "text/plain": [
       "(365, 1)"
      ]
     },
     "execution_count": 69,
     "metadata": {},
     "output_type": "execute_result"
    }
   ],
   "source": [
    "arr.shape + (1, )"
   ]
  },
  {
   "cell_type": "code",
   "execution_count": 45,
   "metadata": {},
   "outputs": [
    {
     "ename": "NameError",
     "evalue": "name 'data' is not defined",
     "output_type": "error",
     "traceback": [
      "\u001b[0;31m---------------------------------------------------------------------------\u001b[0m",
      "\u001b[0;31mNameError\u001b[0m                                 Traceback (most recent call last)",
      "\u001b[0;32m<ipython-input-45-130569a48b6d>\u001b[0m in \u001b[0;36m<module>\u001b[0;34m()\u001b[0m\n\u001b[0;32m----> 1\u001b[0;31m \u001b[0marr\u001b[0m \u001b[0;34m=\u001b[0m \u001b[0;34m(\u001b[0m\u001b[0mdata\u001b[0m\u001b[0;34m.\u001b[0m\u001b[0mlidar_array\u001b[0m\u001b[0;34m(\u001b[0m\u001b[0;34m)\u001b[0m \u001b[0;34m*\u001b[0m \u001b[0;36m255.0\u001b[0m\u001b[0;34m)\u001b[0m\u001b[0;34m.\u001b[0m\u001b[0mastype\u001b[0m\u001b[0;34m(\u001b[0m\u001b[0mnp\u001b[0m\u001b[0;34m.\u001b[0m\u001b[0muint8\u001b[0m\u001b[0;34m)\u001b[0m\u001b[0;34m\u001b[0m\u001b[0m\n\u001b[0m\u001b[1;32m      2\u001b[0m \u001b[0marr\u001b[0m \u001b[0;34m=\u001b[0m \u001b[0marr\u001b[0m\u001b[0;34m.\u001b[0m\u001b[0mreshape\u001b[0m\u001b[0;34m(\u001b[0m\u001b[0;34m(\u001b[0m\u001b[0;36m1\u001b[0m\u001b[0;34m,\u001b[0m\u001b[0;34m)\u001b[0m \u001b[0;34m+\u001b[0m \u001b[0marr\u001b[0m\u001b[0;34m.\u001b[0m\u001b[0mshape\u001b[0m\u001b[0;34m)\u001b[0m\u001b[0;34m\u001b[0m\u001b[0m\n\u001b[1;32m      3\u001b[0m \u001b[0;31m#arr1 = np.concatenate([arr, arr], axis=1)\u001b[0m\u001b[0;34m\u001b[0m\u001b[0;34m\u001b[0m\u001b[0m\n\u001b[1;32m      4\u001b[0m \u001b[0;34m\u001b[0m\u001b[0m\n\u001b[1;32m      5\u001b[0m \u001b[0marr1\u001b[0m\u001b[0;34m.\u001b[0m\u001b[0mshape\u001b[0m\u001b[0;34m\u001b[0m\u001b[0m\n",
      "\u001b[0;31mNameError\u001b[0m: name 'data' is not defined"
     ]
    }
   ],
   "source": [
    "arr = (data.lidar_array() * 255.0).astype(np.uint8)\n",
    "arr = arr.reshape((1,) + arr.shape)\n",
    "#arr1 = np.concatenate([arr, arr], axis=1)\n",
    "\n",
    "arr1.shape"
   ]
  },
  {
   "cell_type": "code",
   "execution_count": 46,
   "metadata": {},
   "outputs": [
    {
     "ename": "NameError",
     "evalue": "name 'arr' is not defined",
     "output_type": "error",
     "traceback": [
      "\u001b[0;31m---------------------------------------------------------------------------\u001b[0m",
      "\u001b[0;31mNameError\u001b[0m                                 Traceback (most recent call last)",
      "\u001b[0;32m<ipython-input-46-20c2827046b5>\u001b[0m in \u001b[0;36m<module>\u001b[0;34m()\u001b[0m\n\u001b[0;32m----> 1\u001b[0;31m \u001b[0mimg\u001b[0m \u001b[0;34m=\u001b[0m \u001b[0mImage\u001b[0m\u001b[0;34m.\u001b[0m\u001b[0mfromarray\u001b[0m\u001b[0;34m(\u001b[0m\u001b[0marr\u001b[0m\u001b[0;34m)\u001b[0m\u001b[0;34m\u001b[0m\u001b[0m\n\u001b[0m\u001b[1;32m      2\u001b[0m \u001b[0mimg\u001b[0m\u001b[0;34m.\u001b[0m\u001b[0msave\u001b[0m\u001b[0;34m(\u001b[0m\u001b[0;34m'~/lidar_test_img.jpg'\u001b[0m\u001b[0;34m)\u001b[0m\u001b[0;34m\u001b[0m\u001b[0m\n",
      "\u001b[0;31mNameError\u001b[0m: name 'arr' is not defined"
     ]
    }
   ],
   "source": [
    "img = Image.fromarray(arr)\n",
    "img.save('~/lidar_test_img.jpg')"
   ]
  },
  {
   "cell_type": "code",
   "execution_count": null,
   "metadata": {
    "collapsed": true
   },
   "outputs": [],
   "source": [
    "bag.file.close()"
   ]
  },
  {
   "cell_type": "code",
   "execution_count": null,
   "metadata": {
    "collapsed": true
   },
   "outputs": [],
   "source": [
    "f = open('~/test_bag/log.txt', 'r')\n"
   ]
  },
  {
   "cell_type": "code",
   "execution_count": null,
   "metadata": {},
   "outputs": [],
   "source": [
    "f.read()"
   ]
  },
  {
   "cell_type": "code",
   "execution_count": null,
   "metadata": {},
   "outputs": [],
   "source": [
    "#save image\n",
    "arr = np.zeros(shape=(120,160))\n",
    "bag.put('cam', arr, val_type=np.ndarray)"
   ]
  },
  {
   "cell_type": "code",
   "execution_count": 14,
   "metadata": {},
   "outputs": [
    {
     "data": {
      "text/plain": [
       "'float'"
      ]
     },
     "execution_count": 14,
     "metadata": {},
     "output_type": "execute_result"
    }
   ],
   "source": [
    "float.__name__"
   ]
  },
  {
   "cell_type": "code",
   "execution_count": null,
   "metadata": {
    "collapsed": true
   },
   "outputs": [],
   "source": []
  },
  {
   "cell_type": "code",
   "execution_count": null,
   "metadata": {
    "collapsed": true
   },
   "outputs": [],
   "source": [
    "data = Data()"
   ]
  },
  {
   "cell_type": "code",
   "execution_count": null,
   "metadata": {},
   "outputs": [],
   "source": [
    "[data.steering_angle() for _ in range(10)]"
   ]
  },
  {
   "cell_type": "code",
   "execution_count": 76,
   "metadata": {},
   "outputs": [],
   "source": [
    "data = Data()\n",
    "t = Tub(path='~/test_tub', overwrite=True)"
   ]
  },
  {
   "cell_type": "code",
   "execution_count": 77,
   "metadata": {},
   "outputs": [],
   "source": [
    "img = data.camera_img()\n",
    "\n",
    "for i in range(100):\n",
    "    path = os.path.join(t.path, str(i) + '.nda')\n",
    "    arr = np.array(img)\n",
    "    arr = arr.astype(np.uint8)\n",
    "    arr.tofile(path)"
   ]
  },
  {
   "cell_type": "code",
   "execution_count": null,
   "metadata": {
    "collapsed": true
   },
   "outputs": [],
   "source": []
  }
 ],
 "metadata": {
  "kernelspec": {
   "display_name": "Python 3",
   "language": "python",
   "name": "python3"
  },
  "language_info": {
   "codemirror_mode": {
    "name": "ipython",
    "version": 3
   },
   "file_extension": ".py",
   "mimetype": "text/x-python",
   "name": "python",
   "nbconvert_exporter": "python",
   "pygments_lexer": "ipython3",
   "version": "3.5.2"
  }
 },
 "nbformat": 4,
 "nbformat_minor": 2
}
